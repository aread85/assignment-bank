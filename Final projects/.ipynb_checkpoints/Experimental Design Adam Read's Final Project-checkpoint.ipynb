{
 "metadata": {
  "name": "",
  "signature": "sha256:6fec11729e309948964536cdee32cd580feadeef62a301c186addc301f5007f8"
 },
 "nbformat": 3,
 "nbformat_minor": 0,
 "worksheets": [
  {
   "cells": [
    {
     "cell_type": "heading",
     "level": 6,
     "metadata": {},
     "source": [
      "CC-BY, (c)2014 A. Read "
     ]
    },
    {
     "cell_type": "heading",
     "level": 1,
     "metadata": {},
     "source": [
      "Experimental Design"
     ]
    },
    {
     "cell_type": "markdown",
     "metadata": {},
     "source": [
      "Now that we've modeled some simple ODE's let's ask some questions:\n",
      "Why do engineer's and scientists create models?\n",
      "How do we confirm a model?\n",
      "What cuases a model to be wrong?\n",
      "\n",
      "Take a minute to think. Maybe even discuss these questions with a friend.\n",
      "\n",
      "Models are our way of explaining the world around us. Engineer's and scientists use models to predict and explain experimental results. Which brings us to how we confirm a model, models can only be confirmed by performing an experiment or by making some observation. If you can't show a result that matches your model then who's to say if it is right or wrong. I once had a manager who told me quote \"All models are wrong, some are useful\". What do you think he meant by this? Models idealize situations which means they don't match experimental data exactly, so they are wrong. However, we don't need to match data exactly but rather as long as it's close the model can be useful. Some things that can cause a model to be wrong include: using the wrong equations, not understanding all the variables involved, or simply not having the right values for variables.\n",
      "\n",
      "This note book will look at how a model can help plan an experiment."
     ]
    },
    {
     "cell_type": "heading",
     "level": 2,
     "metadata": {},
     "source": [
      "CSTR's"
     ]
    },
    {
     "cell_type": "markdown",
     "metadata": {},
     "source": [
      "Let's continue with a simple ODE. In many processing plants chemicals are mixed using reactors called CSTR's (Constant Stirred Tank Reactors) which are essentially a vessesl with an agitator inside. For example in the mining industry copper is extracted from the ore by running the ground ore through a series of CSTR's, a process know as flotation. The copper reacts with chemicals that cause it to attach to bubbles floating it to the surface where it is skimed off. Take a look at how copper is processed from ore to more."
     ]
    },
    {
     "cell_type": "code",
     "collapsed": false,
     "input": [
      "from IPython.display import YouTubeVideo\n",
      "YouTubeVideo('RmaGh4g1JtY')"
     ],
     "language": "python",
     "metadata": {},
     "outputs": [
      {
       "html": [
        "\n",
        "        <iframe\n",
        "            width=\"400\"\n",
        "            height=300\"\n",
        "            src=\"https://www.youtube.com/embed/RmaGh4g1JtY\"\n",
        "            frameborder=\"0\"\n",
        "            allowfullscreen\n",
        "        ></iframe>\n",
        "        "
       ],
       "metadata": {},
       "output_type": "pyout",
       "prompt_number": 1,
       "text": [
        "<IPython.lib.display.YouTubeVideo at 0x4110c88>"
       ]
      }
     ],
     "prompt_number": 1
    },
    {
     "cell_type": "markdown",
     "metadata": {},
     "source": [
      "While flotation is only a small part of the overall process it represents a vital step. As material is added to a CSTR it immediately mixes with the material already in the reactor. This means that some atoms entering will exit the reactor right away while some will stay in the reactor almost indefinaetly. The amount of time the atoms spend in the reactor is known as the residence time. The different times that the atoms spend in the reactor means that there is a residence time distribution RTD. The RTD is an important design feature for increasing the efficiency of the reactor."
     ]
    },
    {
     "cell_type": "markdown",
     "metadata": {},
     "source": [
      "The RTD is often determined using a pulse input experiment. A pulse input experiment involves taking a material that won't react, known as a tracer, and injecting it into the feed stream of the reactor. Samples are taken from the exit stream to measure the concentration of tracer. The concentration of the tracer is defined in equation 1 where m is the amount of tracer in the reactor and vt is the volume of the tank."
     ]
    },
    {
     "cell_type": "markdown",
     "metadata": {},
     "source": [
      "\\\\begin{equation} C=\\\\frac{m}{Vt}\\\\end{equation}"
     ]
    },
    {
     "cell_type": "markdown",
     "metadata": {},
     "source": [
      "The change in tracer can then be modeled using equation 2 where dm is the change in the amount of tracer, dt is change in time and v is the volumetric flow rate entering and leaving the reactor."
     ]
    },
    {
     "cell_type": "markdown",
     "metadata": {},
     "source": [
      "\\\\begin{equation}\\\\frac{dm}{dt} = Cv\\\\end{equation}"
     ]
    },
    {
     "cell_type": "markdown",
     "metadata": {},
     "source": [
      "The residence time distribution is given in equation 3"
     ]
    },
    {
     "cell_type": "markdown",
     "metadata": {},
     "source": [
      "\\\\begin{equation}RTD: E = \\\\frac{C}{\\int C} \\\\end{equation}\n"
     ]
    },
    {
     "cell_type": "markdown",
     "metadata": {},
     "source": [
      "Can you descretize equation 2? We're still using Euler's method."
     ]
    },
    {
     "cell_type": "heading",
     "level": 2,
     "metadata": {},
     "source": [
      "Let's Solve it"
     ]
    },
    {
     "cell_type": "markdown",
     "metadata": {},
     "source": [
      "Lets's solve the RTD for a Single CSTR. Go ahead and load your normal libraries."
     ]
    },
    {
     "cell_type": "code",
     "collapsed": false,
     "input": [
      "import numpy \n",
      "import matplotlib.pyplot as plt\n",
      "%matplotlib inline"
     ],
     "language": "python",
     "metadata": {},
     "outputs": [],
     "prompt_number": 2
    },
    {
     "cell_type": "markdown",
     "metadata": {},
     "source": [
      "Start by choosing a length of time, T, and time step, dt.Then calculate the number of time steps required, N."
     ]
    },
    {
     "cell_type": "code",
     "collapsed": false,
     "input": [
      "T = 60.0 #length of time\n",
      "dt = 2.0 # time step\n",
      "N = int(T/dt)+1 # Number of time steps needed\n",
      "t = numpy.linspace(0.0, T, N) # Array of time for ploting."
     ],
     "language": "python",
     "metadata": {},
     "outputs": [],
     "prompt_number": 3
    },
    {
     "cell_type": "markdown",
     "metadata": {},
     "source": [
      "Time to solve!"
     ]
    },
    {
     "cell_type": "code",
     "collapsed": false,
     "input": [
      "# initial conditions\n",
      "m0 = 100.  # Initial mass of tracer injected (grams)\n",
      "v  = 10   # Volumetric flow rate (m^3/min)\n",
      "Vt = 100. # Volume of single CSTR (m^3)\n",
      "\n",
      "# initialize an array to hold the changing mass values\n",
      "m_1 = numpy.zeros(N)\n",
      "m_1[0] = m0"
     ],
     "language": "python",
     "metadata": {},
     "outputs": [],
     "prompt_number": 4
    },
    {
     "cell_type": "markdown",
     "metadata": {},
     "source": [
      "Now we can start stepping through time using Euler's method."
     ]
    },
    {
     "cell_type": "code",
     "collapsed": false,
     "input": [
      "# time-loop using Euler's method\n",
      "for n in range(0,N-1):\n",
      "    m_1[n+1] = m_1[n] - dt*v/Vt*m_1[n]\n"
     ],
     "language": "python",
     "metadata": {},
     "outputs": [],
     "prompt_number": 5
    },
    {
     "cell_type": "markdown",
     "metadata": {},
     "source": [
      "To get the RTD we need to integrate the area under the concentration curve. Luckily Scipy already has an integration function. To make things simple we'll use the trapazoidal method.\n"
     ]
    },
    {
     "cell_type": "code",
     "collapsed": false,
     "input": [
      "c_1 = m_1/Vt\n",
      "\n",
      "from scipy import integrate\n",
      "\n",
      "c_int = integrate.cumtrapz(c_1, t, initial=0)\n",
      "E = c_1/c_int[-1]"
     ],
     "language": "python",
     "metadata": {},
     "outputs": [],
     "prompt_number": 6
    },
    {
     "cell_type": "markdown",
     "metadata": {},
     "source": [
      "Plot the solution."
     ]
    },
    {
     "cell_type": "code",
     "collapsed": false,
     "input": [
      "plt.figure(figsize=(10,4))   #set plot size\n",
      "plt.ylim(0,0.2)             #y-axis plot limits\n",
      "plt.tick_params(axis='both', labelsize=14) #increase font size for ticks\n",
      "plt.xlabel('t', fontsize=14) #x label\n",
      "plt.ylabel('E', fontsize=14) #y label\n",
      "plt.plot(t,E, 'k-');"
     ],
     "language": "python",
     "metadata": {},
     "outputs": [
      {
       "metadata": {},
       "output_type": "display_data",
       "png": "[encoded data removed]",
       "text": [
        "<matplotlib.figure.Figure at 0xae338d0>"
       ]
      }
     ],
     "prompt_number": 7
    },
    {
     "cell_type": "markdown",
     "metadata": {},
     "source": [
      "Try changing the m0 and dt to see how the RTD changes."
     ]
    },
    {
     "cell_type": "markdown",
     "metadata": {},
     "source": [
      "Now that we have a model. Let's reveiw the experiment agian. Our goal is to find the RTD. Here are some questions to think about:\n",
      "What amount of tracer should be used?\n",
      "How long are you going to sample?\n",
      "How often should you sample? Does it need to be the same interval throught the experiment?\n"
     ]
    },
    {
     "cell_type": "markdown",
     "metadata": {},
     "source": [
      "Based on the model it looks like 100 grams of tracer would require us to take samples for approximately 30 to 40 minutes. If we wanted to shorten the test we would need to use less tracer. It looks like we need to take samples more frequently at the beginning of the testing and less frequently after about 15 minutes. Every 2 minutes looks suffcient for the first 15 minutes and every 5 minute's after that."
     ]
    },
    {
     "cell_type": "heading",
     "level": 2,
     "metadata": {},
     "source": [
      "Lets Create a Function"
     ]
    },
    {
     "cell_type": "markdown",
     "metadata": {},
     "source": [
      "In most processing plants you won't find a CSTR by it's self but rather a series of CSTR's. Let's write a function to model multiple CSTR's in series."
     ]
    },
    {
     "cell_type": "code",
     "collapsed": false,
     "input": [
      "def CSTRS(num, T, dt, m0, v, vt):\n",
      "    \"\"\"\n",
      "    Parameters\n",
      "    ----------\n",
      "    num    : int\n",
      "            Number of CSTR's\n",
      "    T      : float\n",
      "            Length of time\n",
      "    dt     : float\n",
      "            Time-step size\n",
      "    m0     : float\n",
      "            Amount of tracer injected into feed\n",
      "    v      : float\n",
      "            Volumetric flow rate\n",
      "    vt     : float\n",
      "            Volume of tank\n",
      "    \n",
      "    Returns\n",
      "    -------\n",
      "    M      : array of floats\n",
      "            Amount of tracer in each cstr at different time steps\n",
      "    \"\"\"\n",
      "    N = int(T/dt)+1 # Number of time steps needed\n",
      "    t = numpy.linspace(0.0, T, N) # Array of time for ploting.\n",
      "    \n",
      "    #initialize results array \n",
      "    M = numpy.zeros((num+1,N))    \n",
      "    M[1,0] = m0\n",
      "    \n",
      "    for i in range(1,num+1):\n",
      "        for j in range(0,N-1):\n",
      "            M[i,j+1] = M[i,j] - M[i,j]*v/Vt*dt + M[i-1,j]*v/Vt*dt\n",
      "    \n",
      "    \n",
      "\n",
      "    return M"
     ],
     "language": "python",
     "metadata": {},
     "outputs": [],
     "prompt_number": 8
    },
    {
     "cell_type": "code",
     "collapsed": false,
     "input": [
      "def RTD(num, T, dt, m0, vt):\n",
      "    \"\"\"\n",
      "    Parameters\n",
      "    ----------\n",
      "    num    : int\n",
      "            Number of CSTR's\n",
      "    T      : float\n",
      "            Length of time\n",
      "    dt     : float\n",
      "            Time-step size\n",
      "    M     : array\n",
      "            Amount of tracer in CSTR's\n",
      "    vt     : float\n",
      "            Volume of tank\n",
      "    \n",
      "    Returns\n",
      "    -------\n",
      "    E      : array of floats\n",
      "            RTD distribution for different CSTR's\n",
      "    \"\"\"\n",
      "    \n",
      "    N = int(T/dt)+1 # Number of time steps needed\n",
      "    t = numpy.linspace(0.0, T, N) # Array of time for ploting.\n",
      "    from scipy import integrate\n",
      "    \n",
      "    #initialize results array \n",
      "    C = M/vt\n",
      "    C_integral = numpy.zeros(N)    \n",
      "    E = numpy.zeros((num+1,N))\n",
      "    \n",
      "    for i in range(1,num+1):\n",
      "        c_int = integrate.cumtrapz(C[i,:], t, initial=0)\n",
      "        C_integral[i] = c_int[-1]\n",
      "        E[i,:] = C[i,:]/C_integral[i]\n",
      "        \n",
      "    \n",
      "    \n",
      "\n",
      "    return E"
     ],
     "language": "python",
     "metadata": {},
     "outputs": [],
     "prompt_number": 9
    },
    {
     "cell_type": "code",
     "collapsed": false,
     "input": [
      "num = 15 # Number of CSTR's in series\n",
      "T = 300.0 #length of time (minutes)\n",
      "dt = 2.0 # time step\n",
      "m0 = 100.  # Initial mass of tracer injected (grams)\n",
      "v  = 10   # Volumetric flow rate (m^3/min)\n",
      "Vt = 100. # Volume of single CSTR (m^3)\n",
      "\n",
      "N = int(T/dt)+1 # Number of time steps needed\n",
      "t = numpy.linspace(0.0, T, N) # Array of time for ploting.\n",
      "\n",
      "M = CSTRS(num, T, dt, m0, v, Vt)\n",
      "C = M/Vt\n",
      "E = RTD(num, T, dt, m0, Vt)"
     ],
     "language": "python",
     "metadata": {},
     "outputs": [],
     "prompt_number": 10
    },
    {
     "cell_type": "code",
     "collapsed": false,
     "input": [
      "plt.figure(figsize=(10,4))   #set plot size\n",
      "plt.ylim(0,0.1)             #y-axis plot limits\n",
      "plt.tick_params(axis='both', labelsize=14) #increase font size for ticks\n",
      "plt.xlabel('Time (min)', fontsize=14) #x label\n",
      "plt.ylabel('Residence Time Distribution (1/min)', fontsize=14) #y label\n",
      "plt.plot(t,E[1,:], 'k-', label='1st CSTR');\n",
      "plt.plot(t,E[2,:], 'g-', label='2nd CSTR');\n",
      "plt.plot(t,E[3,:], 'r-', label='3rd CSTR');\n",
      "plt.plot(t,E[num,:], 'b-', label= '15th CSTR');\n",
      "plt.legend();\n",
      "\n"
     ],
     "language": "python",
     "metadata": {},
     "outputs": [
      {
       "metadata": {},
       "output_type": "display_data",
       "png": "[encoded data removed]",
       "text": [
        "<matplotlib.figure.Figure at 0xaf78828>"
       ]
      }
     ],
     "prompt_number": 11
    },
    {
     "cell_type": "markdown",
     "metadata": {},
     "source": [
      "Now we really see how helpful having a model before the experiment is. If we have 15 CSTR's in series, after we inject the tracer there is no need to start sampling the 15th CSTR's exit stream until after 60 mins because no tracer will show up before then. Also we know that it will take almost 250 minutes for the tracer to finish exiting the system. So remember if you can create a model of your system before you design the experiment you can probably get better results."
     ]
    },
    {
     "cell_type": "markdown",
     "metadata": {},
     "source": [
      "References: Fogler, H. S. (2006). Elements of chemical reaction engineering H. scott fogler. (4th ed.). Englewood Cliffs, N.J.: Prentice-Hall.\n",
      "\n",
      "03_Heat_Equation_2D_Explicit, Content under Creative Commons Attribution license CC-BY 4.0, code under MIT license (c)2014 L.A. Barba, G.F. Forsyth, C.D. Cooper.\n",
      "\n",
      "01_02_Phugoid_Oscillation, Content under Creative Commons Attribution license CC-BY 4.0, code under MIT license (c)2014 L.A. Barba, G.F. Forsyth. Partly based on David Ketcheson's pendulum lesson, also under CC-BY."
     ]
    },
    {
     "cell_type": "code",
     "collapsed": false,
     "input": [
      "from IPython.core.display import HTML\n",
      "css_file = '../../styles/numericalmoocstyle.css'\n",
      "HTML(open(css_file, \"r\").read())"
     ],
     "language": "python",
     "metadata": {},
     "outputs": [
      {
       "ename": "IOError",
       "evalue": "[Errno 2] No such file or directory: '../../styles/numericalmoocstyle.css'",
       "output_type": "pyerr",
       "traceback": [
        "\u001b[1;31m---------------------------------------------------------------------------\u001b[0m\n\u001b[1;31mIOError\u001b[0m                                   Traceback (most recent call last)",
        "\u001b[1;32m<ipython-input-12-fde599084f9c>\u001b[0m in \u001b[0;36m<module>\u001b[1;34m()\u001b[0m\n\u001b[0;32m      1\u001b[0m \u001b[1;32mfrom\u001b[0m \u001b[0mIPython\u001b[0m\u001b[1;33m.\u001b[0m\u001b[0mcore\u001b[0m\u001b[1;33m.\u001b[0m\u001b[0mdisplay\u001b[0m \u001b[1;32mimport\u001b[0m \u001b[0mHTML\u001b[0m\u001b[1;33m\u001b[0m\u001b[0m\n\u001b[0;32m      2\u001b[0m \u001b[0mcss_file\u001b[0m \u001b[1;33m=\u001b[0m \u001b[1;34m'../../styles/numericalmoocstyle.css'\u001b[0m\u001b[1;33m\u001b[0m\u001b[0m\n\u001b[1;32m----> 3\u001b[1;33m \u001b[0mHTML\u001b[0m\u001b[1;33m(\u001b[0m\u001b[0mopen\u001b[0m\u001b[1;33m(\u001b[0m\u001b[0mcss_file\u001b[0m\u001b[1;33m,\u001b[0m \u001b[1;34m\"r\"\u001b[0m\u001b[1;33m)\u001b[0m\u001b[1;33m.\u001b[0m\u001b[0mread\u001b[0m\u001b[1;33m(\u001b[0m\u001b[1;33m)\u001b[0m\u001b[1;33m)\u001b[0m\u001b[1;33m\u001b[0m\u001b[0m\n\u001b[0m",
        "\u001b[1;31mIOError\u001b[0m: [Errno 2] No such file or directory: '../../styles/numericalmoocstyle.css'"
       ]
      }
     ],
     "prompt_number": 12
    }
   ],
   "metadata": {}
  }
 ]
}